{
 "cells": [
  {
   "cell_type": "code",
   "execution_count": 6,
   "metadata": {},
   "outputs": [],
   "source": [
    "import torch\n",
    "import torch.nn as nn\n",
    "import torch.optim as optim\n",
    "from torch.utils.data import DataLoader\n",
    "from models.gat_encoder import GATEncoder\n",
    "from Dataset.dataset import GraphDataset"
   ]
  },
  {
   "cell_type": "code",
   "execution_count": 7,
   "metadata": {},
   "outputs": [],
   "source": [
    "# Initialize the dataset and dataloader\n",
    "data_path = \"Dataset\\processed.jsonl\"  # Replace with your dataset path\n",
    "dataset = GraphDataset(data_path)\n",
    "dataloader = DataLoader(dataset, batch_size=1, shuffle=True)"
   ]
  },
  {
   "cell_type": "code",
   "execution_count": 8,
   "metadata": {},
   "outputs": [
    {
     "data": {
      "text/plain": [
       "GATEncoder(\n",
       "  (gat1): GATConv(768, 64, heads=4)\n",
       "  (gat2): GATConv(256, 32, heads=1)\n",
       ")"
      ]
     },
     "execution_count": 8,
     "metadata": {},
     "output_type": "execute_result"
    }
   ],
   "source": [
    "# Initialize the GAT model\n",
    "gat_model = GATEncoder(in_channels=768, hidden_channels=64, out_channels=32, heads=4)\n",
    "gat_model.train()  # Set model to training mode"
   ]
  },
  {
   "cell_type": "code",
   "execution_count": 9,
   "metadata": {},
   "outputs": [],
   "source": [
    "# Define a dummy objective (MSE loss)\n",
    "criterion = nn.MSELoss()\n",
    "\n",
    "# Optimizer\n",
    "optimizer = optim.Adam(gat_model.parameters(), lr=0.001)"
   ]
  },
  {
   "cell_type": "code",
   "execution_count": null,
   "metadata": {},
   "outputs": [],
   "source": []
  },
  {
   "cell_type": "code",
   "execution_count": 12,
   "metadata": {},
   "outputs": [
    {
     "name": "stdout",
     "output_type": "stream",
     "text": [
      "Epoch 1/100, Loss: 0.09261189848184585\n",
      "Epoch 2/100, Loss: 0.09108399301767349\n",
      "Epoch 3/100, Loss: 0.09358458667993545\n",
      "Epoch 4/100, Loss: 0.09253397211432457\n",
      "Epoch 5/100, Loss: 0.09454121440649033\n",
      "Epoch 6/100, Loss: 0.0928214319050312\n",
      "Epoch 7/100, Loss: 0.09186646267771721\n",
      "Epoch 8/100, Loss: 0.0905759021639824\n",
      "Epoch 9/100, Loss: 0.09223682284355164\n",
      "Epoch 10/100, Loss: 0.09323505610227585\n",
      "Epoch 11/100, Loss: 0.0933595433831215\n",
      "Epoch 12/100, Loss: 0.08988827094435692\n",
      "Epoch 13/100, Loss: 0.09441400915384293\n",
      "Epoch 14/100, Loss: 0.08874301686882972\n",
      "Epoch 15/100, Loss: 0.08900878131389618\n",
      "Epoch 16/100, Loss: 0.09275438413023948\n",
      "Epoch 17/100, Loss: 0.08944416120648384\n",
      "Epoch 18/100, Loss: 0.09182324558496475\n",
      "Epoch 19/100, Loss: 0.09244096651673317\n",
      "Epoch 20/100, Loss: 0.09296470880508423\n",
      "Epoch 21/100, Loss: 0.0898807942867279\n",
      "Epoch 22/100, Loss: 0.08978739380836487\n",
      "Epoch 23/100, Loss: 0.08881771266460418\n",
      "Epoch 24/100, Loss: 0.08743634670972825\n",
      "Epoch 25/100, Loss: 0.08699331060051918\n",
      "Epoch 26/100, Loss: 0.09570814222097397\n",
      "Epoch 27/100, Loss: 0.08902404680848122\n",
      "Epoch 28/100, Loss: 0.08865239396691323\n",
      "Epoch 29/100, Loss: 0.08666441664099693\n",
      "Epoch 30/100, Loss: 0.08734573349356652\n",
      "Epoch 31/100, Loss: 0.08875773325562478\n",
      "Epoch 32/100, Loss: 0.09212983399629593\n",
      "Epoch 33/100, Loss: 0.09130445420742035\n",
      "Epoch 34/100, Loss: 0.08917061686515808\n",
      "Epoch 35/100, Loss: 0.08908930644392968\n",
      "Epoch 36/100, Loss: 0.08539167046546936\n",
      "Epoch 37/100, Loss: 0.09025656208395957\n",
      "Epoch 38/100, Loss: 0.08918163254857063\n",
      "Epoch 39/100, Loss: 0.0863072119653225\n",
      "Epoch 40/100, Loss: 0.0879294104874134\n",
      "Epoch 41/100, Loss: 0.08605516254901886\n",
      "Epoch 42/100, Loss: 0.09162147492170333\n",
      "Epoch 43/100, Loss: 0.09118919223546981\n",
      "Epoch 44/100, Loss: 0.09069734290242196\n",
      "Epoch 45/100, Loss: 0.08390109911561013\n",
      "Epoch 46/100, Loss: 0.08714625239372253\n",
      "Epoch 47/100, Loss: 0.08720049113035203\n",
      "Epoch 48/100, Loss: 0.08613281473517417\n",
      "Epoch 49/100, Loss: 0.08608333989977837\n",
      "Epoch 50/100, Loss: 0.08752940744161605\n",
      "Epoch 51/100, Loss: 0.08883174806833267\n",
      "Epoch 52/100, Loss: 0.09181788191199303\n",
      "Epoch 53/100, Loss: 0.08986457735300064\n",
      "Epoch 54/100, Loss: 0.08310606703162193\n",
      "Epoch 55/100, Loss: 0.08806061446666717\n",
      "Epoch 56/100, Loss: 0.0826477974653244\n",
      "Epoch 57/100, Loss: 0.08974298164248466\n",
      "Epoch 58/100, Loss: 0.08772072494029999\n",
      "Epoch 59/100, Loss: 0.0885383777320385\n",
      "Epoch 60/100, Loss: 0.08714979663491249\n",
      "Epoch 61/100, Loss: 0.08531611636281014\n",
      "Epoch 62/100, Loss: 0.08720872104167939\n",
      "Epoch 63/100, Loss: 0.08733742013573646\n",
      "Epoch 64/100, Loss: 0.08390628471970558\n",
      "Epoch 65/100, Loss: 0.08465170711278916\n",
      "Epoch 66/100, Loss: 0.08714682906866074\n",
      "Epoch 67/100, Loss: 0.08812410458922386\n",
      "Epoch 68/100, Loss: 0.08520192131400109\n",
      "Epoch 69/100, Loss: 0.09170338436961174\n",
      "Epoch 70/100, Loss: 0.0910475142300129\n",
      "Epoch 71/100, Loss: 0.09091167151927948\n",
      "Epoch 72/100, Loss: 0.08344026505947114\n",
      "Epoch 73/100, Loss: 0.08819974437355996\n",
      "Epoch 74/100, Loss: 0.08482711166143417\n",
      "Epoch 75/100, Loss: 0.08829595819115639\n",
      "Epoch 76/100, Loss: 0.08921569213271141\n",
      "Epoch 77/100, Loss: 0.09188179969787598\n",
      "Epoch 78/100, Loss: 0.08677678853273392\n",
      "Epoch 79/100, Loss: 0.08395453542470932\n",
      "Epoch 80/100, Loss: 0.08804880008101464\n",
      "Epoch 81/100, Loss: 0.08433153405785561\n",
      "Epoch 82/100, Loss: 0.07904955223202706\n",
      "Epoch 83/100, Loss: 0.08762617111206054\n",
      "Epoch 84/100, Loss: 0.09176862463355065\n",
      "Epoch 85/100, Loss: 0.0865599863231182\n",
      "Epoch 86/100, Loss: 0.08703517764806748\n",
      "Epoch 87/100, Loss: 0.08536874875426292\n",
      "Epoch 88/100, Loss: 0.09064204543828965\n",
      "Epoch 89/100, Loss: 0.08293198123574257\n",
      "Epoch 90/100, Loss: 0.0866048589348793\n",
      "Epoch 91/100, Loss: 0.08886301219463348\n",
      "Epoch 92/100, Loss: 0.08846757188439369\n",
      "Epoch 93/100, Loss: 0.08866388276219368\n",
      "Epoch 94/100, Loss: 0.08503926917910576\n",
      "Epoch 95/100, Loss: 0.08318648263812065\n",
      "Epoch 96/100, Loss: 0.08469428941607475\n",
      "Epoch 97/100, Loss: 0.08757807090878486\n",
      "Epoch 98/100, Loss: 0.08848958164453506\n",
      "Epoch 99/100, Loss: 0.08679701611399651\n",
      "Epoch 100/100, Loss: 0.08255299404263497\n"
     ]
    }
   ],
   "source": [
    "# Training loop\n",
    "num_epochs = 100\n",
    "for epoch in range(num_epochs):\n",
    "    total_loss = 0\n",
    "    for batch in dataloader:\n",
    "        # Extract data from the batch\n",
    "        node_features = batch[\"node_features\"].squeeze(0)  # [num_nodes, in_channels]\n",
    "        edge_list = batch[\"edge_list\"].squeeze(0)  # [2, num_edges]\n",
    "        \n",
    "        # Forward pass\n",
    "        output_embeddings = gat_model(node_features, edge_list)  # [num_nodes, out_channels]\n",
    "        \n",
    "        # Generate a dummy target (same shape as output)\n",
    "        target_embeddings = torch.rand_like(output_embeddings)  # Random target embeddings\n",
    "        \n",
    "        # Compute the loss\n",
    "        loss = criterion(output_embeddings, target_embeddings)\n",
    "        \n",
    "        # Backward pass and optimization\n",
    "        optimizer.zero_grad()\n",
    "        loss.backward()\n",
    "        optimizer.step()\n",
    "        \n",
    "        total_loss += loss.item()\n",
    "    \n",
    "    print(f\"Epoch {epoch + 1}/{num_epochs}, Loss: {total_loss / len(dataloader)}\")"
   ]
  },
  {
   "cell_type": "code",
   "execution_count": null,
   "metadata": {},
   "outputs": [],
   "source": []
  }
 ],
 "metadata": {
  "kernelspec": {
   "display_name": "Python 3",
   "language": "python",
   "name": "python3"
  },
  "language_info": {
   "codemirror_mode": {
    "name": "ipython",
    "version": 3
   },
   "file_extension": ".py",
   "mimetype": "text/x-python",
   "name": "python",
   "nbconvert_exporter": "python",
   "pygments_lexer": "ipython3",
   "version": "3.9.12"
  }
 },
 "nbformat": 4,
 "nbformat_minor": 2
}
